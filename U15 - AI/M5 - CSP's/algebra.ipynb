{
 "cells": [
  {
   "attachments": {},
   "cell_type": "markdown",
   "metadata": {},
   "source": [
    "With the help of constraint satisfaction problem, we can solve algebraic relations. In this example, we will try to solve a simple algebraic relation 𝒂∗𝟐 = 𝒃. It will return the value of 𝒂 and 𝒃 within the range that we would define."
   ]
  },
  {
   "cell_type": "code",
   "execution_count": 1,
   "metadata": {},
   "outputs": [
    {
     "name": "stdout",
     "output_type": "stream",
     "text": [
      "Requirement already satisfied: python-constraint in d:\\bin\\python\\anaconda3\\lib\\site-packages (1.4.0)\n",
      "Note: you may need to restart the kernel to use updated packages.\n"
     ]
    }
   ],
   "source": [
    "pip install python-constraint"
   ]
  },
  {
   "cell_type": "code",
   "execution_count": 33,
   "metadata": {},
   "outputs": [],
   "source": [
    "from constraint import *\n",
    "import matplotlib.pyplot as plt\n",
    "import numpy as np\n",
    "import math\n",
    "import random   \n",
    "import time"
   ]
  },
  {
   "cell_type": "code",
   "execution_count": 31,
   "metadata": {},
   "outputs": [],
   "source": [
    "def search(N):\n",
    "    problem = Problem()\n",
    "    problem.addVariable( 'a', range(N))\n",
    "    problem.addVariable( 'b', range(N))\n",
    "    problem.addConstraint(lambda a, b: 3*pow(a,2)+2*a == b)\n",
    "    start = time.time()\n",
    "    solutions = problem.getSolutions()\n",
    "    end = time.time()\n",
    "    lap = end-start\n",
    "    print( \"Range \",N, \" number of founds:\", len(solutions), \" \", f\"{lap:.1f}\", \"S\")\n",
    "    return lap"
   ]
  },
  {
   "cell_type": "code",
   "execution_count": 71,
   "metadata": {},
   "outputs": [
    {
     "name": "stdout",
     "output_type": "stream",
     "text": [
      "Range  100  number of founds: 6   0.1 S\n",
      "Range  200  number of founds: 8   0.2 S\n",
      "Range  300  number of founds: 10   0.3 S\n",
      "Range  400  number of founds: 12   0.5 S\n",
      "Range  500  number of founds: 13   0.8 S\n",
      "Range  600  number of founds: 14   1.2 S\n",
      "Range  700  number of founds: 15   1.8 S\n",
      "Range  800  number of founds: 16   2.0 S\n",
      "Range  900  number of founds: 17   2.7 S\n",
      "Range  1000  number of founds: 18   3.1 S\n",
      "Range  1100  number of founds: 19   3.8 S\n",
      "Range  1200  number of founds: 20   4.6 S\n",
      "Range  1300  number of founds: 21   5.3 S\n",
      "Range  1400  number of founds: 22   6.4 S\n"
     ]
    },
    {
     "data": {
      "image/png": "[encoded data removed]",
      "text/plain": [
       "<Figure size 640x480 with 1 Axes>"
      ]
     },
     "metadata": {},
     "output_type": "display_data"
    }
   ],
   "source": [
    "N=15\n",
    "x = np.arange(1,N,1)\n",
    "y = np.empty(0)\n",
    "for i in x:\n",
    "    y=np.append(y, search(100*i))\n",
    "plt.plot( x, y,'bp')\n",
    "plt.show()"
   ]
  },
  {
   "cell_type": "code",
   "execution_count": 73,
   "metadata": {},
   "outputs": [
    {
     "name": "stdout",
     "output_type": "stream",
     "text": [
      "Range  1000  number of founds: 18   3.2 S\n",
      "Range  2000  number of founds: 26   14.8 S\n",
      "Range  3000  number of founds: 32   37.2 S\n"
     ]
    }
   ],
   "source": [
    "N=4\n",
    "x = np.arange(1,N,1)\n",
    "y = np.empty(0)\n",
    "for i in x:\n",
    "    y=np.append(y, search(1000*i))"
   ]
  }
 ],
 "metadata": {
  "kernelspec": {
   "display_name": "base",
   "language": "python",
   "name": "python3"
  },
  "language_info": {
   "codemirror_mode": {
    "name": "ipython",
    "version": 3
   },
   "file_extension": ".py",
   "mimetype": "text/x-python",
   "name": "python",
   "nbconvert_exporter": "python",
   "pygments_lexer": "ipython3",
   "version": "3.9.13"
  },
  "orig_nbformat": 4
 },
 "nbformat": 4,
 "nbformat_minor": 2
}
